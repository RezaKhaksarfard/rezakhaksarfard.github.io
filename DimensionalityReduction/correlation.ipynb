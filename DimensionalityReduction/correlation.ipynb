{
 "cells": [
  {
   "cell_type": "markdown",
   "metadata": {},
   "source": [
    "[jupyter notebook](correlation.ipynb)"
   ]
  },
  {
   "cell_type": "markdown",
   "metadata": {},
   "source": [
    "# Correlation or association between the columns of a dataframe "
   ]
  },
  {
   "cell_type": "code",
   "execution_count": 1,
   "metadata": {},
   "outputs": [
    {
     "data": {
      "text/html": [
       "<div>\n",
       "<style scoped>\n",
       "    .dataframe tbody tr th:only-of-type {\n",
       "        vertical-align: middle;\n",
       "    }\n",
       "\n",
       "    .dataframe tbody tr th {\n",
       "        vertical-align: top;\n",
       "    }\n",
       "\n",
       "    .dataframe thead th {\n",
       "        text-align: right;\n",
       "    }\n",
       "</style>\n",
       "<table border=\"1\" class=\"dataframe\">\n",
       "  <thead>\n",
       "    <tr style=\"text-align: right;\">\n",
       "      <th></th>\n",
       "      <th>X1</th>\n",
       "      <th>X2</th>\n",
       "      <th>X3</th>\n",
       "      <th>X4</th>\n",
       "    </tr>\n",
       "  </thead>\n",
       "  <tbody>\n",
       "    <tr>\n",
       "      <th>0</th>\n",
       "      <td>8</td>\n",
       "      <td>18</td>\n",
       "      <td>c3</td>\n",
       "      <td>b4</td>\n",
       "    </tr>\n",
       "    <tr>\n",
       "      <th>1</th>\n",
       "      <td>12</td>\n",
       "      <td>39</td>\n",
       "      <td>b3</td>\n",
       "      <td>b4</td>\n",
       "    </tr>\n",
       "    <tr>\n",
       "      <th>2</th>\n",
       "      <td>5</td>\n",
       "      <td>28</td>\n",
       "      <td>a3</td>\n",
       "      <td>b4</td>\n",
       "    </tr>\n",
       "    <tr>\n",
       "      <th>3</th>\n",
       "      <td>0</td>\n",
       "      <td>26</td>\n",
       "      <td>b3</td>\n",
       "      <td>b4</td>\n",
       "    </tr>\n",
       "    <tr>\n",
       "      <th>4</th>\n",
       "      <td>28</td>\n",
       "      <td>18</td>\n",
       "      <td>a3</td>\n",
       "      <td>b4</td>\n",
       "    </tr>\n",
       "    <tr>\n",
       "      <th>...</th>\n",
       "      <td>...</td>\n",
       "      <td>...</td>\n",
       "      <td>...</td>\n",
       "      <td>...</td>\n",
       "    </tr>\n",
       "    <tr>\n",
       "      <th>95</th>\n",
       "      <td>20</td>\n",
       "      <td>40</td>\n",
       "      <td>a3</td>\n",
       "      <td>b4</td>\n",
       "    </tr>\n",
       "    <tr>\n",
       "      <th>96</th>\n",
       "      <td>46</td>\n",
       "      <td>43</td>\n",
       "      <td>c3</td>\n",
       "      <td>b4</td>\n",
       "    </tr>\n",
       "    <tr>\n",
       "      <th>97</th>\n",
       "      <td>38</td>\n",
       "      <td>10</td>\n",
       "      <td>b3</td>\n",
       "      <td>c4</td>\n",
       "    </tr>\n",
       "    <tr>\n",
       "      <th>98</th>\n",
       "      <td>35</td>\n",
       "      <td>6</td>\n",
       "      <td>b3</td>\n",
       "      <td>c4</td>\n",
       "    </tr>\n",
       "    <tr>\n",
       "      <th>99</th>\n",
       "      <td>14</td>\n",
       "      <td>45</td>\n",
       "      <td>b3</td>\n",
       "      <td>a4</td>\n",
       "    </tr>\n",
       "  </tbody>\n",
       "</table>\n",
       "<p>100 rows × 4 columns</p>\n",
       "</div>"
      ],
      "text/plain": [
       "    X1  X2  X3  X4\n",
       "0    8  18  c3  b4\n",
       "1   12  39  b3  b4\n",
       "2    5  28  a3  b4\n",
       "3    0  26  b3  b4\n",
       "4   28  18  a3  b4\n",
       "..  ..  ..  ..  ..\n",
       "95  20  40  a3  b4\n",
       "96  46  43  c3  b4\n",
       "97  38  10  b3  c4\n",
       "98  35   6  b3  c4\n",
       "99  14  45  b3  a4\n",
       "\n",
       "[100 rows x 4 columns]"
      ]
     },
     "metadata": {},
     "output_type": "display_data"
    }
   ],
   "source": [
    "import pandas as pd\n",
    "import numpy as np\n",
    "\n",
    "np.random.seed( 15 )\n",
    "df = pd.DataFrame( { 'X1': np.random.choice( 50, 100 ),\n",
    "                     'X2': np.random.choice( 50, 100 ), \n",
    "                     'X3': np.random.choice( [ 'a3' , 'b3' ,  'c3' ], 100 ), \n",
    "                     'X4': np.random.choice( [ 'a4' , 'b4' ,  'c4' ], 100 ) } )\n",
    "\n",
    "pd.set_option( 'display.max_rows', 10 )\n",
    "display( df)"
   ]
  },
  {
   "cell_type": "markdown",
   "metadata": {},
   "source": [
    "### Correlation between two continuous columns (X1 and X2)"
   ]
  },
  {
   "cell_type": "code",
   "execution_count": 2,
   "metadata": {},
   "outputs": [
    {
     "name": "stdout",
     "output_type": "stream",
     "text": [
      "***** Pearson correlation *****\n",
      "\n",
      "          X1        X2\n",
      "X1  1.000000 -0.141702\n",
      "X2 -0.141702  1.000000\n",
      "\n",
      "***** Spearman correlation *****\n",
      "\n",
      "          X1        X2\n",
      "X1  1.000000 -0.139973\n",
      "X2 -0.139973  1.000000\n"
     ]
    }
   ],
   "source": [
    "pearsonCorr = df[ [ 'X1', 'X2' ] ].corr( method = 'pearson' )\n",
    "print( '***** Pearson correlation *****\\n' )\n",
    "print( pearsonCorr )\n",
    "print()\n",
    "\n",
    "spearmanCorr = df[ [ 'X1', 'X2' ] ].corr( method = 'spearman' )\n",
    "print( '***** Spearman correlation *****\\n' )\n",
    "print( spearmanCorr )\n"
   ]
  },
  {
   "cell_type": "markdown",
   "metadata": {},
   "source": [
    "### Association between two categorical columns (X3 and X4)"
   ]
  },
  {
   "cell_type": "code",
   "execution_count": 3,
   "metadata": {},
   "outputs": [
    {
     "name": "stdout",
     "output_type": "stream",
     "text": [
      "***** Contingency table of columns X3 and X4 *****\n",
      "\n",
      "X4  a4  b4  c4\n",
      "X3            \n",
      "a3   8  14  10\n",
      "b3   8  14  12\n",
      "c3  11  13  10\n",
      "\n",
      "***** Chi-square test *****\n",
      "\n",
      "p-value =  0.928165368015445\n",
      "There is no association between X3 and X4\n",
      "\n",
      "***** Cramer's V *****\n",
      "\n",
      "Cramer's V =  0.06613157422490289\n"
     ]
    }
   ],
   "source": [
    "from scipy.stats import chi2_contingency\n",
    "\n",
    "# Find contingency table\n",
    "cTab = pd.crosstab( df['X3'], df['X4'] )\n",
    "print( '***** Contingency table of columns X3 and X4 *****\\n' )\n",
    "print( cTab )\n",
    "\n",
    "# Chi-square test for null hypothesis (H0) of no association between columns X3 and X4\n",
    "chi2, pVal, dof, e = chi2_contingency( cTab )\n",
    "print( '\\n***** Chi-square test *****\\n')\n",
    "print( 'p-value = ', pVal )\n",
    "\n",
    "sigLev = 0.05\n",
    "if pVal < sigLev:\n",
    "    print( 'There is association between X3 and X4' )\n",
    "else:\n",
    "    print( 'There is no association between X3 and X4' )\n",
    "\n",
    "print( '\\n***** Cramer\\'s V *****\\n')\n",
    "n = cTab.sum().sum() # Total number of observations\n",
    "r, k = cTab.shape # Number of rows and columns\n",
    "\n",
    "V = np.sqrt( ( chi2 / n ) / min( r - 1, k - 1 ) )\n",
    "\n",
    "print( 'Cramer\\'s V = ', V )"
   ]
  },
  {
   "cell_type": "markdown",
   "metadata": {},
   "source": [
    "### Correlation between a continuous and a categorical column (X1 and X3)"
   ]
  },
  {
   "cell_type": "code",
   "execution_count": 4,
   "metadata": {},
   "outputs": [
    {
     "name": "stdout",
     "output_type": "stream",
     "text": [
      "\n",
      "***** Kruskal-Wallis H-test *****\n",
      "\n",
      "p-value =  0.6648145720335333\n",
      "There is no correlation between X1 and X3\n"
     ]
    }
   ],
   "source": [
    "# Kruskal-Wallis H-test between columns X1 and X3\n",
    "\n",
    "from scipy.stats import kruskal\n",
    "\n",
    "grouped = df.groupby( by = 'X3' )[ 'X1' ]\n",
    "values = [ list( g ) for n, g in grouped ]\n",
    "\n",
    "# Kruskal-Wallis H-test for null hypothesis (H0) of no correlation between columns X1 and X3\n",
    "stat, pVal = kruskal( *values )\n",
    "\n",
    "print( '\\n***** Kruskal-Wallis H-test *****\\n')\n",
    "print( 'p-value = ', pVal )\n",
    "\n",
    "sigLev = 0.05\n",
    "if pVal < sigLev:\n",
    "    print( 'There is correlation between X1 and X3' )\n",
    "else:\n",
    "    print( 'There is no correlation between X1 and X3' )"
   ]
  }
 ],
 "metadata": {
  "kernelspec": {
   "display_name": "Python 3",
   "language": "python",
   "name": "python3"
  },
  "language_info": {
   "codemirror_mode": {
    "name": "ipython",
    "version": 3
   },
   "file_extension": ".py",
   "mimetype": "text/x-python",
   "name": "python",
   "nbconvert_exporter": "python",
   "pygments_lexer": "ipython3",
   "version": "3.5.5"
  }
 },
 "nbformat": 4,
 "nbformat_minor": 2
}
