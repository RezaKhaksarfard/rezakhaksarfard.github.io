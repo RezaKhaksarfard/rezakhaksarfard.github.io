{
 "cells": [
  {
   "cell_type": "markdown",
   "metadata": {},
   "source": [
    "[jupyter notebook](nlargest.ipynb)"
   ]
  },
  {
   "cell_type": "markdown",
   "metadata": {},
   "source": [
    "# nlargest"
   ]
  },
  {
   "cell_type": "code",
   "execution_count": 1,
   "metadata": {
    "scrolled": true
   },
   "outputs": [
    {
     "name": "stdout",
     "output_type": "stream",
     "text": [
      "   A  B  C\n",
      "0  a  1  9\n",
      "1  b  4  7\n",
      "2  a  2  3\n",
      "3  a  5  5\n",
      "4  b  5  1\n",
      "5  c  6  4\n",
      "6  e  3  7\n",
      "7  d  1  2\n"
     ]
    }
   ],
   "source": [
    "import pandas as pd\n",
    "\n",
    "df = pd.DataFrame( { 'A': [ 'a', 'b', 'a', 'a', 'b', 'c', 'e', 'd'],\n",
    "                     'B': [  1 ,  4 ,  2 ,  5 ,  5 ,  6 ,  3 ,  1 ],\n",
    "                     'C': [  9 ,  7 ,  3 ,  5 ,  1 ,  4 ,  7 ,  2 ] } )\n",
    "\n",
    "print( df )"
   ]
  },
  {
   "cell_type": "markdown",
   "metadata": {},
   "source": [
    "### Filter two largest by column B"
   ]
  },
  {
   "cell_type": "code",
   "execution_count": 2,
   "metadata": {
    "scrolled": true
   },
   "outputs": [
    {
     "name": "stdout",
     "output_type": "stream",
     "text": [
      "   A  B  C\n",
      "0  a  1  9\n",
      "1  b  4  7\n"
     ]
    }
   ],
   "source": [
    "print( df.nlargest( 2, 'C' ) )"
   ]
  },
  {
   "cell_type": "markdown",
   "metadata": {},
   "source": [
    "### Filter groups by largest size"
   ]
  },
  {
   "cell_type": "code",
   "execution_count": 3,
   "metadata": {},
   "outputs": [
    {
     "name": "stdout",
     "output_type": "stream",
     "text": [
      "Index List =  ['a', 'b']\n",
      "\n",
      "   A  B  C\n",
      "0  a  1  9\n",
      "1  b  4  7\n",
      "2  a  2  3\n",
      "3  a  5  5\n",
      "4  b  5  1\n"
     ]
    }
   ],
   "source": [
    "indexList = df.groupby( 'A' ).size().nlargest( 2 ).index.tolist() \n",
    "print( 'Index List = ', indexList )\n",
    "print()\n",
    "\n",
    "print( df.loc[ df[ 'A' ].isin( indexList ) ] )"
   ]
  }
 ],
 "metadata": {
  "kernelspec": {
   "display_name": "Python 3",
   "language": "python",
   "name": "python3"
  },
  "language_info": {
   "codemirror_mode": {
    "name": "ipython",
    "version": 3
   },
   "file_extension": ".py",
   "mimetype": "text/x-python",
   "name": "python",
   "nbconvert_exporter": "python",
   "pygments_lexer": "ipython3",
   "version": "3.5.5"
  }
 },
 "nbformat": 4,
 "nbformat_minor": 2
}
