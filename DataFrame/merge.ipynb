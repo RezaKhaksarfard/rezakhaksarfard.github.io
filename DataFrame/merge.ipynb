{
 "cells": [
  {
   "cell_type": "markdown",
   "metadata": {},
   "source": [
    "[jupyter notebook](merge.ipynb)\n",
    "# merge"
   ]
  },
  {
   "cell_type": "code",
   "execution_count": 1,
   "metadata": {
    "collapsed": false
   },
   "outputs": [
    {
     "name": "stdout",
     "output_type": "stream",
     "text": [
      "    A   B\n",
      "0  a1  a2\n",
      "1  b1  c2\n",
      "2  c1  d2\n",
      "\n",
      "    A   B    C\n",
      "0  a1  a2  5.5\n",
      "1  b1  b2  6.5\n"
     ]
    }
   ],
   "source": [
    "import pandas as pd\n",
    "\n",
    "dfSource1 = pd.DataFrame( { 'A': [ 'a1', 'b1', 'c1' ], 'B': [  'a2', 'c2', 'd2' ] } )\n",
    "dfSource2 = pd.DataFrame( { 'A': [ 'a1', 'b1' ], 'B': [  'a2' ,  'b2' ], 'C': [ 5.5, 6.5 ] } )\n",
    "\n",
    "print( dfSource1 )\n",
    "print()\n",
    "print( dfSource2 )"
   ]
  },
  {
   "cell_type": "markdown",
   "metadata": {},
   "source": [
    "### inner join on column A"
   ]
  },
  {
   "cell_type": "code",
   "execution_count": 2,
   "metadata": {
    "collapsed": false
   },
   "outputs": [
    {
     "name": "stdout",
     "output_type": "stream",
     "text": [
      "    A B_1 B_2    C\n",
      "0  a1  a2  a2  5.5\n",
      "1  b1  c2  b2  6.5\n"
     ]
    }
   ],
   "source": [
    "print( pd.merge( dfSource1, dfSource2, how = 'inner', on = 'A', suffixes = [ '_1', '_2' ] ) )"
   ]
  },
  {
   "cell_type": "markdown",
   "metadata": {},
   "source": [
    "### inner join on columns A and B"
   ]
  },
  {
   "cell_type": "code",
   "execution_count": 3,
   "metadata": {
    "collapsed": false
   },
   "outputs": [
    {
     "name": "stdout",
     "output_type": "stream",
     "text": [
      "    A   B    C\n",
      "0  a1  a2  5.5\n"
     ]
    }
   ],
   "source": [
    "print( pd.merge( dfSource1, dfSource2, how = 'inner', on = [ 'A', 'B' ], suffixes = [ '_1', '_2' ] ) )"
   ]
  },
  {
   "cell_type": "markdown",
   "metadata": {},
   "source": [
    "### left join on column A"
   ]
  },
  {
   "cell_type": "code",
   "execution_count": 4,
   "metadata": {
    "collapsed": false
   },
   "outputs": [
    {
     "name": "stdout",
     "output_type": "stream",
     "text": [
      "    A B_1  B_2    C\n",
      "0  a1  a2   a2  5.5\n",
      "1  b1  c2   b2  6.5\n",
      "2  c1  d2  NaN  NaN\n"
     ]
    }
   ],
   "source": [
    "print( pd.merge( dfSource1, dfSource2, how = 'left', on = 'A', suffixes = [ '_1', '_2' ] ) )"
   ]
  },
  {
   "cell_type": "markdown",
   "metadata": {},
   "source": [
    "### outer join on column A"
   ]
  },
  {
   "cell_type": "code",
   "execution_count": 5,
   "metadata": {
    "collapsed": false
   },
   "outputs": [
    {
     "name": "stdout",
     "output_type": "stream",
     "text": [
      "    A B_1  B_2    C\n",
      "0  a1  a2   a2  5.5\n",
      "1  b1  c2   b2  6.5\n",
      "2  c1  d2  NaN  NaN\n"
     ]
    }
   ],
   "source": [
    "print( pd.merge( dfSource1, dfSource2, how = 'outer', on = 'A', suffixes = [ '_1', '_2' ] ) )"
   ]
  },
  {
   "cell_type": "markdown",
   "metadata": {},
   "source": [
    "### inner join on column A (left_on and right_on)"
   ]
  },
  {
   "cell_type": "code",
   "execution_count": 6,
   "metadata": {
    "collapsed": false
   },
   "outputs": [
    {
     "name": "stdout",
     "output_type": "stream",
     "text": [
      "    A B_1 B_2    C\n",
      "0  a1  a2  a2  5.5\n",
      "1  b1  c2  b2  6.5\n"
     ]
    }
   ],
   "source": [
    "print( pd.merge( dfSource1, dfSource2, how = 'inner', left_on = 'A', right_on = 'A', suffixes = [ '_1', '_2' ] ) )"
   ]
  }
 ],
 "metadata": {
  "kernelspec": {
   "display_name": "Python 3",
   "language": "python",
   "name": "python3"
  },
  "language_info": {
   "codemirror_mode": {
    "name": "ipython",
    "version": 3
   },
   "file_extension": ".py",
   "mimetype": "text/x-python",
   "name": "python",
   "nbconvert_exporter": "python",
   "pygments_lexer": "ipython3",
   "version": "3.5.3"
  }
 },
 "nbformat": 4,
 "nbformat_minor": 2
}
