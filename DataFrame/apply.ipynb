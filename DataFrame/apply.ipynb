{
 "cells": [
  {
   "cell_type": "markdown",
   "metadata": {},
   "source": [
    "[jupyter notebook](apply.ipynb)\n",
    "# apply "
   ]
  },
  {
   "cell_type": "code",
   "execution_count": 1,
   "metadata": {
    "collapsed": false
   },
   "outputs": [
    {
     "name": "stdout",
     "output_type": "stream",
     "text": [
      "   A  B  C\n",
      "0  a  1  9\n",
      "1  a  4  7\n",
      "2  b  2  3\n",
      "3  a  5  5\n",
      "4  b  5  1\n",
      "5  b  6  4\n",
      "6  a  3  7\n",
      "7  b  1  2\n"
     ]
    }
   ],
   "source": [
    "import pandas as pd\n",
    "\n",
    "dfSource = pd.DataFrame( { 'A': [ 'a', 'a', 'b', 'a', 'b', 'b', 'a', 'b'],\n",
    "                           'B': [  1 ,  4 ,  2 ,  5 ,  5 ,  6 ,  3 ,  1 ],\n",
    "                           'C': [  9 ,  7 ,  3 ,  5 ,  1 ,  4 ,  7 ,  2 ] } )\n",
    "\n",
    "print( dfSource )"
   ]
  },
  {
   "cell_type": "markdown",
   "metadata": {},
   "source": [
    "### Add a new column"
   ]
  },
  {
   "cell_type": "code",
   "execution_count": 2,
   "metadata": {
    "collapsed": false
   },
   "outputs": [
    {
     "name": "stdout",
     "output_type": "stream",
     "text": [
      "   A  B  C   D\n",
      "0  a  1  9  10\n",
      "1  a  4  7  11\n",
      "2  b  2  3   5\n",
      "3  a  5  5  10\n",
      "4  b  5  1   6\n",
      "5  b  6  4  10\n",
      "6  a  3  7  10\n",
      "7  b  1  2   3\n"
     ]
    }
   ],
   "source": [
    "def func( row ):\n",
    "    return row[ 'B' ] + row[ 'C' ]\n",
    "\n",
    "df = dfSource.copy()\n",
    "\n",
    "df[ 'D' ] = df.apply( func, axis = 1 )\n",
    "\n",
    "print( df )"
   ]
  },
  {
   "cell_type": "code",
   "execution_count": 3,
   "metadata": {
    "collapsed": false
   },
   "outputs": [
    {
     "name": "stdout",
     "output_type": "stream",
     "text": [
      "   A  B  C   D\n",
      "0  a  1  9  19\n",
      "1  a  4  7  18\n",
      "2  b  2  3   8\n",
      "3  a  5  5  15\n",
      "4  b  5  1   7\n",
      "5  b  6  4  14\n",
      "6  a  3  7  17\n",
      "7  b  1  2   5\n"
     ]
    }
   ],
   "source": [
    "def func( row, x ):\n",
    "    return row[ 'B' ] + row[ 'C' ] * x\n",
    "\n",
    "df = dfSource.copy()\n",
    "\n",
    "x = 2\n",
    "df[ 'D' ] = df.apply( lambda row: func( row, x ), axis = 1 )\n",
    "\n",
    "print( df )"
   ]
  }
 ],
 "metadata": {
  "kernelspec": {
   "display_name": "Python 3",
   "language": "python",
   "name": "python3"
  },
  "language_info": {
   "codemirror_mode": {
    "name": "ipython",
    "version": 3
   },
   "file_extension": ".py",
   "mimetype": "text/x-python",
   "name": "python",
   "nbconvert_exporter": "python",
   "pygments_lexer": "ipython3",
   "version": "3.5.3"
  }
 },
 "nbformat": 4,
 "nbformat_minor": 2
}
