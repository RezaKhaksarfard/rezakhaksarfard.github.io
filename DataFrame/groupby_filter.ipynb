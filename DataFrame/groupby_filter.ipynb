{
 "cells": [
  {
   "cell_type": "markdown",
   "metadata": {},
   "source": [
    "# groupby filter"
   ]
  },
  {
   "cell_type": "code",
   "execution_count": 1,
   "metadata": {
    "collapsed": false
   },
   "outputs": [
    {
     "name": "stdout",
     "output_type": "stream",
     "text": [
      "   A  B  C\n",
      "0  a  1  9\n",
      "1  a  4  7\n",
      "2  b  2  3\n",
      "3  a  5  5\n",
      "4  b  5  1\n",
      "5  b  6  4\n",
      "6  a  3  7\n",
      "7  b  1  2\n"
     ]
    }
   ],
   "source": [
    "import pandas as pd\n",
    "\n",
    "df = pd.DataFrame( { 'A': [ 'a', 'a', 'b', 'a', 'b', 'b', 'a', 'b'],\n",
    "                     'B': [  1 ,  4 ,  2 ,  5 ,  5 ,  6 ,  3 ,  1 ],\n",
    "                     'C': [  9 ,  7 ,  3 ,  5 ,  1 ,  4 ,  7 ,  2 ] } )\n",
    "\n",
    "print( df )"
   ]
  },
  {
   "cell_type": "markdown",
   "metadata": {},
   "source": [
    "### Filter a group if max of column 'C' is higher than 6"
   ]
  },
  {
   "cell_type": "code",
   "execution_count": 2,
   "metadata": {
    "collapsed": false
   },
   "outputs": [
    {
     "name": "stdout",
     "output_type": "stream",
     "text": [
      "   A  B  C\n",
      "0  a  1  9\n",
      "1  a  4  7\n",
      "3  a  5  5\n",
      "6  a  3  7\n"
     ]
    }
   ],
   "source": [
    "def func( group ):\n",
    "    return group[ 'C' ].max() > 6\n",
    "\n",
    "print( df.groupby( by = 'A' ).filter( func ))"
   ]
  },
  {
   "cell_type": "code",
   "execution_count": 3,
   "metadata": {
    "collapsed": false
   },
   "outputs": [
    {
     "name": "stdout",
     "output_type": "stream",
     "text": [
      "   A  B  C\n",
      "0  a  1  9\n",
      "1  a  4  7\n",
      "2  a  5  5\n",
      "3  a  3  7\n"
     ]
    }
   ],
   "source": [
    "def func( group ):\n",
    "    return group[ 'C' ].max() > 6\n",
    "\n",
    "print( df.groupby( by = 'A' ).filter( func ).reset_index( drop = True ) )"
   ]
  }
 ],
 "metadata": {
  "kernelspec": {
   "display_name": "Python 3",
   "language": "python",
   "name": "python3"
  },
  "language_info": {
   "codemirror_mode": {
    "name": "ipython",
    "version": 3
   },
   "file_extension": ".py",
   "mimetype": "text/x-python",
   "name": "python",
   "nbconvert_exporter": "python",
   "pygments_lexer": "ipython3",
   "version": "3.5.3"
  }
 },
 "nbformat": 4,
 "nbformat_minor": 2
}
