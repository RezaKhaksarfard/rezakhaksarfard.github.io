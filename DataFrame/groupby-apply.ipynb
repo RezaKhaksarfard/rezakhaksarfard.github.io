{
 "cells": [
  {
   "cell_type": "markdown",
   "metadata": {},
   "source": [
    "[jupyter notebook](groupby_apply.ipynb)\n",
    "# groupby apply"
   ]
  },
  {
   "cell_type": "code",
   "execution_count": 1,
   "metadata": {
    "collapsed": false
   },
   "outputs": [
    {
     "name": "stdout",
     "output_type": "stream",
     "text": [
      "   A  B  C\n",
      "0  a  1  9\n",
      "1  a  4  7\n",
      "2  b  2  3\n",
      "3  a  5  5\n",
      "4  b  5  1\n",
      "5  b  6  4\n",
      "6  a  3  7\n",
      "7  b  1  2\n"
     ]
    }
   ],
   "source": [
    "import pandas as pd\n",
    "\n",
    "df = pd.DataFrame( { 'A': [ 'a', 'a', 'b', 'a', 'b', 'b', 'a', 'b'],\n",
    "                     'B': [  1 ,  4 ,  2 ,  5 ,  5 ,  6 ,  3 ,  1 ],\n",
    "                     'C': [  9 ,  7 ,  3 ,  5 ,  1 ,  4 ,  7 ,  2 ] } )\n",
    "\n",
    "print( df )"
   ]
  },
  {
   "cell_type": "markdown",
   "metadata": {},
   "source": [
    "### Keep the first two rows of each group"
   ]
  },
  {
   "cell_type": "code",
   "execution_count": 2,
   "metadata": {
    "collapsed": false
   },
   "outputs": [
    {
     "name": "stdout",
     "output_type": "stream",
     "text": [
      "     A  B  C\n",
      "A           \n",
      "a 0  a  1  9\n",
      "  1  a  4  7\n",
      "b 2  b  2  3\n",
      "  4  b  5  1\n"
     ]
    }
   ],
   "source": [
    "def func( group ):\n",
    "    return group.iloc[ :2 ]\n",
    "\n",
    "print( df.groupby( by = 'A' ).apply( func ) )"
   ]
  },
  {
   "cell_type": "code",
   "execution_count": 3,
   "metadata": {
    "collapsed": false
   },
   "outputs": [
    {
     "name": "stdout",
     "output_type": "stream",
     "text": [
      "     A  B  C\n",
      "0 0  a  1  9\n",
      "  1  a  4  7\n",
      "1 2  b  2  3\n",
      "  4  b  5  1\n"
     ]
    }
   ],
   "source": [
    "def func( group ):\n",
    "    return group.iloc[ :2 ]\n",
    "\n",
    "print( df.groupby( by = 'A', as_index = False ).apply( func ) )"
   ]
  },
  {
   "cell_type": "code",
   "execution_count": 4,
   "metadata": {
    "collapsed": false
   },
   "outputs": [
    {
     "name": "stdout",
     "output_type": "stream",
     "text": [
      "   level_0  level_1  A  B  C\n",
      "0        0        0  a  1  9\n",
      "1        0        1  a  4  7\n",
      "2        1        2  b  2  3\n",
      "3        1        4  b  5  1\n"
     ]
    }
   ],
   "source": [
    "def func( group ):\n",
    "    return group.iloc[ :2 ]\n",
    "\n",
    "print( df.groupby( by = 'A', as_index = False ).apply( func ).reset_index() )"
   ]
  },
  {
   "cell_type": "code",
   "execution_count": 5,
   "metadata": {
    "collapsed": false
   },
   "outputs": [
    {
     "name": "stdout",
     "output_type": "stream",
     "text": [
      "   A  B  C\n",
      "0  a  1  9\n",
      "1  a  4  7\n",
      "2  b  2  3\n",
      "3  b  5  1\n"
     ]
    }
   ],
   "source": [
    "def func( group ):\n",
    "    return group.iloc[ :2 ]\n",
    "\n",
    "print( df.groupby( by = 'A', as_index = False ).apply( func ).reset_index( drop = True ) )"
   ]
  },
  {
   "cell_type": "markdown",
   "metadata": {},
   "source": [
    "### Add a new column to each group"
   ]
  },
  {
   "cell_type": "code",
   "execution_count": 6,
   "metadata": {
    "collapsed": false
   },
   "outputs": [
    {
     "name": "stdout",
     "output_type": "stream",
     "text": [
      "   A  B  C  C_CumSum\n",
      "0  a  1  9         9\n",
      "1  a  4  7        16\n",
      "2  a  5  5        21\n",
      "3  a  3  7        28\n",
      "4  b  2  3         3\n",
      "5  b  5  1         4\n",
      "6  b  6  4         8\n",
      "7  b  1  2        10\n"
     ]
    }
   ],
   "source": [
    "def func( group ):\n",
    "    group[ 'C_CumSum' ] = group[ 'C' ].cumsum()\n",
    "    return group\n",
    "\n",
    "print( df.groupby( by = 'A' ).apply( func ).sort_values( by = 'A').reset_index( drop = True ) )"
   ]
  }
 ],
 "metadata": {
  "kernelspec": {
   "display_name": "Python 3",
   "language": "python",
   "name": "python3"
  },
  "language_info": {
   "codemirror_mode": {
    "name": "ipython",
    "version": 3
   },
   "file_extension": ".py",
   "mimetype": "text/x-python",
   "name": "python",
   "nbconvert_exporter": "python",
   "pygments_lexer": "ipython3",
   "version": "3.5.3"
  }
 },
 "nbformat": 4,
 "nbformat_minor": 2
}
