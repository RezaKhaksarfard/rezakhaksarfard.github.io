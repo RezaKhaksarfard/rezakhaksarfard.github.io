{
 "cells": [
  {
   "cell_type": "markdown",
   "metadata": {},
   "source": [
    "[jupyter notebook](loc_iloc_at_iat.ipynb)"
   ]
  },
  {
   "cell_type": "markdown",
   "metadata": {},
   "source": [
    "# loc, iloc, at, iat"
   ]
  },
  {
   "cell_type": "code",
   "execution_count": 1,
   "metadata": {
    "collapsed": false
   },
   "outputs": [
    {
     "name": "stdout",
     "output_type": "stream",
     "text": [
      "   B  C\n",
      "A      \n",
      "a  1  9\n",
      "b  4  7\n",
      "d  2  3\n",
      "e  5  5\n",
      "c  5  1\n",
      "g  6  4\n",
      "f  3  7\n",
      "h  1  2\n"
     ]
    }
   ],
   "source": [
    "import pandas as pd\n",
    "\n",
    "df = pd.DataFrame( { 'A': [ 'a', 'b', 'd', 'e', 'c', 'g', 'f', 'h'],\n",
    "                     'B': [  1 ,  4 ,  2 ,  5 ,  5 ,  6 ,  3 ,  1 ],\n",
    "                     'C': [  9 ,  7 ,  3 ,  5 ,  1 ,  4 ,  7 ,  2 ] } )\n",
    "\n",
    "df.set_index( 'A', inplace = True )\n",
    "print( df )"
   ]
  },
  {
   "cell_type": "markdown",
   "metadata": {},
   "source": [
    "### loc"
   ]
  },
  {
   "cell_type": "code",
   "execution_count": 2,
   "metadata": {
    "collapsed": false
   },
   "outputs": [
    {
     "name": "stdout",
     "output_type": "stream",
     "text": [
      "   B  C\n",
      "A      \n",
      "g  6  4\n",
      "h  1  2\n"
     ]
    }
   ],
   "source": [
    "# Access by index\n",
    "print( df.loc[ [ 'g', 'h' ] ] )"
   ]
  },
  {
   "cell_type": "code",
   "execution_count": 3,
   "metadata": {
    "collapsed": false
   },
   "outputs": [
    {
     "name": "stdout",
     "output_type": "stream",
     "text": [
      "A\n",
      "g    6\n",
      "h    1\n",
      "Name: B, dtype: int64\n"
     ]
    }
   ],
   "source": [
    "# Access by index and column name\n",
    "print( df.loc[ [ 'g', 'h' ], 'B' ] )"
   ]
  },
  {
   "cell_type": "code",
   "execution_count": 4,
   "metadata": {
    "collapsed": false
   },
   "outputs": [
    {
     "name": "stdout",
     "output_type": "stream",
     "text": [
      "   B\n",
      "A   \n",
      "g  6\n",
      "h  1\n"
     ]
    }
   ],
   "source": [
    "print( df.loc[ [ 'g', 'h' ], [ 'B' ] ] )"
   ]
  },
  {
   "cell_type": "code",
   "execution_count": 5,
   "metadata": {
    "collapsed": false
   },
   "outputs": [
    {
     "name": "stdout",
     "output_type": "stream",
     "text": [
      "A\n",
      "e    5\n",
      "c    1\n",
      "g    4\n",
      "Name: C, dtype: int64\n"
     ]
    }
   ],
   "source": [
    "print( df.loc[ df[ 'B' ] > 4, 'C' ] )"
   ]
  },
  {
   "cell_type": "code",
   "execution_count": 6,
   "metadata": {
    "collapsed": false
   },
   "outputs": [
    {
     "name": "stdout",
     "output_type": "stream",
     "text": [
      "   B  C\n",
      "A      \n",
      "e  5  5\n",
      "c  5  1\n",
      "g  6  4\n"
     ]
    }
   ],
   "source": [
    "print( df.loc[ df[ 'B' ] > 4, [ 'B', 'C' ] ] )"
   ]
  },
  {
   "cell_type": "code",
   "execution_count": 7,
   "metadata": {
    "collapsed": false
   },
   "outputs": [
    {
     "name": "stdout",
     "output_type": "stream",
     "text": [
      "   B  C\n",
      "A      \n",
      "c  5  1\n",
      "g  6  4\n"
     ]
    }
   ],
   "source": [
    "print( df.loc[ ( df[ 'B' ] > 4 ) & ( df[ 'C' ] < 5 ), [ 'B', 'C' ] ] )"
   ]
  },
  {
   "cell_type": "code",
   "execution_count": 8,
   "metadata": {
    "collapsed": false
   },
   "outputs": [
    {
     "name": "stdout",
     "output_type": "stream",
     "text": [
      "   B  C\n",
      "A      \n",
      "d  2  3\n",
      "e  5  5\n",
      "c  5  1\n",
      "g  6  4\n",
      "h  1  2\n"
     ]
    }
   ],
   "source": [
    "print( df.loc[ ( df[ 'B' ] > 4 ) | ( df[ 'C' ] < 5 ), [ 'B', 'C' ] ] )"
   ]
  },
  {
   "cell_type": "markdown",
   "metadata": {},
   "source": [
    "### iloc"
   ]
  },
  {
   "cell_type": "code",
   "execution_count": 9,
   "metadata": {
    "collapsed": false
   },
   "outputs": [
    {
     "name": "stdout",
     "output_type": "stream",
     "text": [
      "   B  C\n",
      "A      \n",
      "a  1  9\n",
      "b  4  7\n",
      "d  2  3\n",
      "e  5  5\n",
      "c  5  1\n",
      "g  6  4\n",
      "f  3  7\n",
      "h  1  2\n"
     ]
    }
   ],
   "source": [
    "import pandas as pd\n",
    "\n",
    "df = pd.DataFrame( { 'A': [ 'a', 'b', 'd', 'e', 'c', 'g', 'f', 'h'],\n",
    "                     'B': [  1 ,  4 ,  2 ,  5 ,  5 ,  6 ,  3 ,  1 ],\n",
    "                     'C': [  9 ,  7 ,  3 ,  5 ,  1 ,  4 ,  7 ,  2 ] } )\n",
    "\n",
    "df.set_index( 'A', inplace = True )\n",
    "print( df )"
   ]
  },
  {
   "cell_type": "code",
   "execution_count": 10,
   "metadata": {
    "collapsed": false
   },
   "outputs": [
    {
     "name": "stdout",
     "output_type": "stream",
     "text": [
      "   B  C\n",
      "A      \n",
      "b  4  7\n",
      "d  2  3\n",
      "e  5  5\n"
     ]
    }
   ],
   "source": [
    "# Access by row position\n",
    "print( df.iloc[ 1: 4 ] )"
   ]
  },
  {
   "cell_type": "code",
   "execution_count": 11,
   "metadata": {
    "collapsed": false
   },
   "outputs": [
    {
     "name": "stdout",
     "output_type": "stream",
     "text": [
      "A\n",
      "b    7\n",
      "d    3\n",
      "e    5\n",
      "Name: C, dtype: int64\n"
     ]
    }
   ],
   "source": [
    "# Access by row and column positions\n",
    "print( df.iloc[ 1: 4, 1 ] )"
   ]
  },
  {
   "cell_type": "code",
   "execution_count": 12,
   "metadata": {
    "collapsed": false
   },
   "outputs": [
    {
     "name": "stdout",
     "output_type": "stream",
     "text": [
      "   C\n",
      "A   \n",
      "b  7\n",
      "d  3\n",
      "e  5\n"
     ]
    }
   ],
   "source": [
    "print( df.iloc[ 1: 4, 1: 2 ] )"
   ]
  },
  {
   "cell_type": "markdown",
   "metadata": {},
   "source": [
    "### at"
   ]
  },
  {
   "cell_type": "code",
   "execution_count": 13,
   "metadata": {
    "collapsed": false
   },
   "outputs": [
    {
     "name": "stdout",
     "output_type": "stream",
     "text": [
      "   B  C\n",
      "A      \n",
      "a  1  9\n",
      "b  4  7\n",
      "d  2  3\n",
      "e  5  5\n",
      "c  5  1\n",
      "g  6  4\n",
      "f  3  7\n",
      "h  1  2\n"
     ]
    }
   ],
   "source": [
    "import pandas as pd\n",
    "\n",
    "df = pd.DataFrame( { 'A': [ 'a', 'b', 'd', 'e', 'c', 'g', 'f', 'h'],\n",
    "                     'B': [  1 ,  4 ,  2 ,  5 ,  5 ,  6 ,  3 ,  1 ],\n",
    "                     'C': [  9 ,  7 ,  3 ,  5 ,  1 ,  4 ,  7 ,  2 ] } )\n",
    "\n",
    "df.set_index( 'A', inplace = True )\n",
    "print( df )"
   ]
  },
  {
   "cell_type": "code",
   "execution_count": 14,
   "metadata": {
    "collapsed": false
   },
   "outputs": [
    {
     "name": "stdout",
     "output_type": "stream",
     "text": [
      "4\n"
     ]
    }
   ],
   "source": [
    "# Access by index and column\n",
    "print( df.at[ 'g', 'C' ])"
   ]
  },
  {
   "cell_type": "markdown",
   "metadata": {},
   "source": [
    "### iat"
   ]
  },
  {
   "cell_type": "code",
   "execution_count": 15,
   "metadata": {
    "collapsed": false
   },
   "outputs": [
    {
     "name": "stdout",
     "output_type": "stream",
     "text": [
      "   B  C\n",
      "A      \n",
      "a  1  9\n",
      "b  4  7\n",
      "d  2  3\n",
      "e  5  5\n",
      "c  5  1\n",
      "g  6  4\n",
      "f  3  7\n",
      "h  1  2\n"
     ]
    }
   ],
   "source": [
    "import pandas as pd\n",
    "\n",
    "df = pd.DataFrame( { 'A': [ 'a', 'b', 'd', 'e', 'c', 'g', 'f', 'h'],\n",
    "                     'B': [  1 ,  4 ,  2 ,  5 ,  5 ,  6 ,  3 ,  1 ],\n",
    "                     'C': [  9 ,  7 ,  3 ,  5 ,  1 ,  4 ,  7 ,  2 ] } )\n",
    "\n",
    "df.set_index( 'A', inplace = True )\n",
    "print( df )"
   ]
  },
  {
   "cell_type": "code",
   "execution_count": 16,
   "metadata": {
    "collapsed": false
   },
   "outputs": [
    {
     "name": "stdout",
     "output_type": "stream",
     "text": [
      "3\n"
     ]
    }
   ],
   "source": [
    "# Access by row and column position\n",
    "print( df.iat[ 2, 1 ])"
   ]
  },
  {
   "cell_type": "code",
   "execution_count": 17,
   "metadata": {
    "collapsed": false
   },
   "outputs": [
    {
     "name": "stdout",
     "output_type": "stream",
     "text": [
      "3\n"
     ]
    }
   ],
   "source": [
    "print( df[ 'C' ].iat[ 2 ] )"
   ]
  }
 ],
 "metadata": {
  "kernelspec": {
   "display_name": "Python 3",
   "language": "python",
   "name": "python3"
  },
  "language_info": {
   "codemirror_mode": {
    "name": "ipython",
    "version": 3
   },
   "file_extension": ".py",
   "mimetype": "text/x-python",
   "name": "python",
   "nbconvert_exporter": "python",
   "pygments_lexer": "ipython3",
   "version": "3.5.3"
  }
 },
 "nbformat": 4,
 "nbformat_minor": 2
}
