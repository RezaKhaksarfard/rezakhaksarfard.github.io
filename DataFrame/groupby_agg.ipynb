{
 "cells": [
  {
   "cell_type": "markdown",
   "metadata": {},
   "source": [
    "[jupyter notebook](groupby_agg.ipynb)\n",
    "# groupby agg"
   ]
  },
  {
   "cell_type": "code",
   "execution_count": 1,
   "metadata": {
    "collapsed": false
   },
   "outputs": [
    {
     "name": "stdout",
     "output_type": "stream",
     "text": [
      "   A  B  C\n",
      "0  a  1  9\n",
      "1  a  4  7\n",
      "2  b  2  3\n",
      "3  a  5  5\n",
      "4  b  5  1\n",
      "5  b  6  4\n",
      "6  a  3  7\n",
      "7  b  1  2\n"
     ]
    }
   ],
   "source": [
    "import pandas as pd\n",
    "\n",
    "dfSource = pd.DataFrame( { 'A': [ 'a', 'a', 'b', 'a', 'b', 'b', 'a', 'b'],\n",
    "                           'B': [  1 ,  4 ,  2 ,  5 ,  5 ,  6 ,  3 ,  1 ],\n",
    "                           'C': [  9 ,  7 ,  3 ,  5 ,  1 ,  4 ,  7 ,  2 ] } )\n",
    "\n",
    "print( dfSource )"
   ]
  },
  {
   "cell_type": "code",
   "execution_count": 2,
   "metadata": {
    "collapsed": false
   },
   "outputs": [
    {
     "name": "stdout",
     "output_type": "stream",
     "text": [
      "   A  C  B\n",
      "0  a  5  5\n",
      "1  b  1  6\n",
      "\n",
      "   A  C_min  B_min\n",
      "0  a      5      5\n",
      "1  b      1      6\n"
     ]
    }
   ],
   "source": [
    "df = dfSource.groupby( by = 'A', as_index = False ).agg( { 'B': 'max', 'C': 'min' } ).reset_index( drop = True )\n",
    "print( df )\n",
    "print()\n",
    "\n",
    "df.rename( columns = { 'B': 'B_min', 'C': 'C_min' }, inplace = True )\n",
    "print( df )"
   ]
  },
  {
   "cell_type": "code",
   "execution_count": 3,
   "metadata": {
    "collapsed": false
   },
   "outputs": [
    {
     "name": "stdout",
     "output_type": "stream",
     "text": [
      "    C   B\n",
      "  min max\n",
      "0   5   5\n",
      "1   1   6\n",
      "\n",
      "   C_min  B_max\n",
      "0      5      5\n",
      "1      1      6\n"
     ]
    }
   ],
   "source": [
    "df = dfSource.groupby( by = 'A' ).agg( { 'B': [ 'max' ], 'C': 'min' } ).reset_index( drop = True )\n",
    "print( df )\n",
    "print()\n",
    "\n",
    "df.columns = df.columns.map( '_'.join )\n",
    "print( df )"
   ]
  },
  {
   "cell_type": "code",
   "execution_count": 4,
   "metadata": {
    "collapsed": false
   },
   "outputs": [
    {
     "name": "stdout",
     "output_type": "stream",
     "text": [
      "    C   B    \n",
      "  min max min\n",
      "0   5   5   1\n",
      "1   1   6   1\n",
      "\n",
      "   C_min  B_max  B_min\n",
      "0      5      5      1\n",
      "1      1      6      1\n"
     ]
    }
   ],
   "source": [
    "df = dfSource.groupby( by = 'A' ).agg( { 'B': [ 'max', 'min' ], 'C': 'min' } ).reset_index( drop = True )\n",
    "print( df )\n",
    "print()\n",
    "\n",
    "df.columns = df.columns.map( '_'.join )\n",
    "print( df )"
   ]
  }
 ],
 "metadata": {
  "kernelspec": {
   "display_name": "Python 3",
   "language": "python",
   "name": "python3"
  },
  "language_info": {
   "codemirror_mode": {
    "name": "ipython",
    "version": 3
   },
   "file_extension": ".py",
   "mimetype": "text/x-python",
   "name": "python",
   "nbconvert_exporter": "python",
   "pygments_lexer": "ipython3",
   "version": "3.5.3"
  }
 },
 "nbformat": 4,
 "nbformat_minor": 2
}
