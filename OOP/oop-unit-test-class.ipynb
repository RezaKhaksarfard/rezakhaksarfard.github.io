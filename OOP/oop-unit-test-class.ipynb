{
 "cells": [
  {
   "cell_type": "markdown",
   "metadata": {},
   "source": [
    "[jupyter notebook](oop-unit-test-class.ipynb)"
   ]
  },
  {
   "cell_type": "markdown",
   "metadata": {},
   "source": [
    "# Write tests for methods of a class"
   ]
  },
  {
   "cell_type": "markdown",
   "metadata": {},
   "source": [
    "### Sample class"
   ]
  },
  {
   "cell_type": "code",
   "execution_count": 1,
   "metadata": {
    "scrolled": true
   },
   "outputs": [],
   "source": [
    "import numpy as np\n",
    "import random\n",
    "from scipy.optimize import curve_fit\n",
    "\n",
    "class Model:\n",
    "    \n",
    "    def __init__( self ):       \n",
    "        self.__pList = [ 5, 5, 5 ]         # Initial guess\n",
    "        \n",
    "    def GetParameters( self ):\n",
    "        return self.__pList\n",
    "    \n",
    "    def Func( self, x, a, b, c ):\n",
    "        return a + b * np.log10( c + x )\n",
    "\n",
    "    def GetFit( self, xData, yData ):\n",
    "\n",
    "        # Fit data\n",
    "        self.__pList, pcov = curve_fit( self.Func, xData, yData, p0 = self.__pList )\n",
    "        yFit = [ self.Func( x, self.__pList[ 0 ], self.__pList[ 1 ], self.__pList[ 2 ] ) for x in xData ]\n",
    "\n",
    "        return yFit"
   ]
  },
  {
   "cell_type": "markdown",
   "metadata": {},
   "source": [
    "### Tests"
   ]
  },
  {
   "cell_type": "code",
   "execution_count": 2,
   "metadata": {},
   "outputs": [],
   "source": [
    "import unittest\n",
    "\n",
    "# Test different scenarios by adding more tests to this class\n",
    "class TestModel( unittest.TestCase ):\n",
    "\n",
    "    def setUp( self ):\n",
    "        self.__model = Model() # Create a Model object\n",
    "    \n",
    "    # Test Func of model class. Name should start with \"test\" \n",
    "    def testFuncEqual( self ):\n",
    "        y = self.__model.Func( 2, 1, 2, 3 )\n",
    "        self.assertAlmostEqual( y, 2.40, places = 2 )\n",
    "    \n",
    "    # Test GetFit of model class. Name should start with \"test\" \n",
    "    def testGetFitEqual( self ):\n",
    "        xData = [ i for i in range( 1, 5 ) ]\n",
    "        yData = [ 4.50, 4.65, 4.90, 5.00 ]\n",
    "        yFit = [ 4.49, 4.69, 4.86, 5.02 ]\n",
    "\n",
    "        yResult = self.__model.GetFit( xData, yData )\n",
    "        \n",
    "        for y1, y2 in zip( yFit, yResult ):\n",
    "            self.assertAlmostEqual( y1, y2, places = 2 )"
   ]
  },
  {
   "cell_type": "markdown",
   "metadata": {},
   "source": [
    "### Run tests"
   ]
  },
  {
   "cell_type": "code",
   "execution_count": 3,
   "metadata": {},
   "outputs": [
    {
     "name": "stderr",
     "output_type": "stream",
     "text": [
      "testFuncEqual (__main__.TestModel) ... ok\n",
      "testGetFitEqual (__main__.TestModel) ... ok\n",
      "\n",
      "----------------------------------------------------------------------\n",
      "Ran 2 tests in 0.024s\n",
      "\n",
      "OK\n"
     ]
    },
    {
     "data": {
      "text/plain": [
       "<unittest.runner.TextTestResult run=2 errors=0 failures=0>"
      ]
     },
     "execution_count": 3,
     "metadata": {},
     "output_type": "execute_result"
    }
   ],
   "source": [
    "# Create test suite\n",
    "testSuite = unittest.TestLoader().loadTestsFromTestCase( TestModel )\n",
    "\n",
    "# Run tests\n",
    "unittest.TextTestRunner( verbosity = 2 ).run( testSuite )\n"
   ]
  }
 ],
 "metadata": {
  "kernelspec": {
   "display_name": "Python 3",
   "language": "python",
   "name": "python3"
  },
  "language_info": {
   "codemirror_mode": {
    "name": "ipython",
    "version": 3
   },
   "file_extension": ".py",
   "mimetype": "text/x-python",
   "name": "python",
   "nbconvert_exporter": "python",
   "pygments_lexer": "ipython3",
   "version": "3.5.5"
  }
 },
 "nbformat": 4,
 "nbformat_minor": 2
}
