{
 "cells": [
  {
   "cell_type": "markdown",
   "metadata": {},
   "source": [
    "[jupyter notebook](oop-class-model-factory-pattern.ipynb)"
   ]
  },
  {
   "cell_type": "markdown",
   "metadata": {},
   "source": [
    "# Create objects by factory method pattern"
   ]
  },
  {
   "cell_type": "markdown",
   "metadata": {},
   "source": [
    "### Model abstract base class and the derived classes"
   ]
  },
  {
   "cell_type": "code",
   "execution_count": 1,
   "metadata": {
    "scrolled": true
   },
   "outputs": [],
   "source": [
    "from abc import ABC, abstractmethod\n",
    "import numpy as np\n",
    "import random\n",
    "from scipy.optimize import curve_fit\n",
    "\n",
    "####################\n",
    "# Abstract Base Class\n",
    "class ModelABC( ABC ):\n",
    "    \n",
    "    def __init__( self ):        \n",
    "        self.__pList = [ 5, 5, 5 ]         # Initial guess\n",
    "        \n",
    "    def GetParameters( self ):\n",
    "        return self.__pList\n",
    "    \n",
    "    @abstractmethod\n",
    "    def Func( self, x, a, b, c ):\n",
    "        pass\n",
    "\n",
    "    def GetFit( self, xData, yData ):\n",
    "\n",
    "        # Fit data\n",
    "        self.__pList, pcov = curve_fit( self.Func, xData, yData, p0 = self.__pList )\n",
    "        yFit = [ self.Func( x, self.__pList[ 0 ], self.__pList[ 1 ], self.__pList[ 2 ] ) for x in xData ]\n",
    "\n",
    "        return yFit\n",
    "\n",
    "####################\n",
    "# Derived class with log function\n",
    "class ModelLog( ModelABC ):\n",
    "        \n",
    "    def Func( self, x, a, b, c ):\n",
    "        return a + b * np.log10( c + x )\n",
    "\n",
    "####################\n",
    "# Derived class with polynomial function\n",
    "class ModelPolynomial( ModelABC ):\n",
    "        \n",
    "    def Func( self, x, a, b, c ):\n",
    "        return a + b * x + c * x ** 3"
   ]
  },
  {
   "cell_type": "markdown",
   "metadata": {},
   "source": [
    "### Factory class"
   ]
  },
  {
   "cell_type": "code",
   "execution_count": 2,
   "metadata": {},
   "outputs": [],
   "source": [
    "class ModelFactory:\n",
    "    def GetModel( self, modelName ):\n",
    "        if modelName == 'Polynomial':\n",
    "            return ModelPolynomial()\n",
    "        elif modelName == 'Log':\n",
    "            return ModelLog()\n",
    "        else:\n",
    "            return None"
   ]
  },
  {
   "cell_type": "markdown",
   "metadata": {},
   "source": [
    "### Use model to fit to data "
   ]
  },
  {
   "cell_type": "code",
   "execution_count": 3,
   "metadata": {},
   "outputs": [
    {
     "name": "stdout",
     "output_type": "stream",
     "text": [
      "a =  4.38099670343307\n",
      "b =  0.09986977154109403\n",
      "c =  -8.575473383750623e-05\n"
     ]
    }
   ],
   "source": [
    "xData = [ i for i in range( 1, 20 ) ]\n",
    "\n",
    "# Generate yData\n",
    "random.seed( 59 )\n",
    "yData = [ 3 + 2 * np.log10( 4 + x ) + random.uniform( -0.01, 0.01 ) for x in xData ]\n",
    "\n",
    "# Create model object by factory object\n",
    "modelFactory = ModelFactory()\n",
    "model = modelFactory.GetModel( 'Polynomial' )\n",
    "    \n",
    "yFit = model.GetFit( xData, yData )\n",
    "pList = model.GetParameters()\n",
    "\n",
    "print( 'a = ', pList[ 0 ] )\n",
    "print( 'b = ', pList[ 1 ] )\n",
    "print( 'c = ', pList[ 2 ] )"
   ]
  },
  {
   "cell_type": "markdown",
   "metadata": {},
   "source": [
    "### Plot data and fit"
   ]
  },
  {
   "cell_type": "code",
   "execution_count": 4,
   "metadata": {},
   "outputs": [
    {
     "data": {
      "image/png": "[encoded data removed]",
      "text/plain": [
       "<Figure size 576x432 with 1 Axes>"
      ]
     },
     "metadata": {},
     "output_type": "display_data"
    }
   ],
   "source": [
    "%matplotlib inline\n",
    "import matplotlib.pyplot as plt\n",
    "\n",
    "plt.figure( figsize = ( 8, 6 ) )\n",
    "plt.scatter( xData, yData, color = 'black', label = 'Data' )\n",
    "plt.plot( xData, yFit, color = 'red', label = 'Fit' )\n",
    "plt.grid( linestyle = '--')\n",
    "plt.xlim( 1, 21 )\n",
    "plt.ylim( 4, 6 )\n",
    "plt.legend( loc = 'upper left' )\n",
    "plt.show()"
   ]
  }
 ],
 "metadata": {
  "kernelspec": {
   "display_name": "Python 3",
   "language": "python",
   "name": "python3"
  },
  "language_info": {
   "codemirror_mode": {
    "name": "ipython",
    "version": 3
   },
   "file_extension": ".py",
   "mimetype": "text/x-python",
   "name": "python",
   "nbconvert_exporter": "python",
   "pygments_lexer": "ipython3",
   "version": "3.5.5"
  }
 },
 "nbformat": 4,
 "nbformat_minor": 2
}
