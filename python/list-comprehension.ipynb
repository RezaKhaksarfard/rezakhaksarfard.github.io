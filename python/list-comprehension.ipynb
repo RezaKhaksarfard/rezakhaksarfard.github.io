{
 "cells": [
  {
   "cell_type": "markdown",
   "metadata": {},
   "source": [
    "[jupyter notebook](list-comprehension.ipynb)"
   ]
  },
  {
   "cell_type": "markdown",
   "metadata": {},
   "source": [
    "# Save prime numbers of a list to a new list using list comprehension "
   ]
  },
  {
   "cell_type": "code",
   "execution_count": 1,
   "metadata": {
    "scrolled": true
   },
   "outputs": [
    {
     "name": "stdout",
     "output_type": "stream",
     "text": [
      "[3, 17]\n"
     ]
    }
   ],
   "source": [
    "import math\n",
    "\n",
    "# Basic algorithm to find if a number is prime (This algorithm is not the most efficient one)\n",
    "def IsPrime( i ):\n",
    "    if i < 2:\n",
    "        return False\n",
    "    \n",
    "    for j in range( 2, int( math.sqrt( i ) ) + 1 ):\n",
    "        if i % j == 0:\n",
    "            return False\n",
    "        \n",
    "    return True\n",
    "\n",
    "originalList = [ 1, 3, 80, 45, 17, 25 ]\n",
    "primeList = [ i for i in originalList if IsPrime( i ) ]\n",
    "\n",
    "print( primeList )"
   ]
  }
 ],
 "metadata": {
  "kernelspec": {
   "display_name": "Python 3",
   "language": "python",
   "name": "python3"
  },
  "language_info": {
   "codemirror_mode": {
    "name": "ipython",
    "version": 3
   },
   "file_extension": ".py",
   "mimetype": "text/x-python",
   "name": "python",
   "nbconvert_exporter": "python",
   "pygments_lexer": "ipython3",
   "version": "3.5.5"
  }
 },
 "nbformat": 4,
 "nbformat_minor": 2
}
