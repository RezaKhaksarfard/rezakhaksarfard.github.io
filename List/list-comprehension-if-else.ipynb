{
 "cells": [
  {
   "cell_type": "markdown",
   "metadata": {},
   "source": [
    "[jupyter notebook](list-comprehension-if-else.ipynb)"
   ]
  },
  {
   "cell_type": "markdown",
   "metadata": {},
   "source": [
    "# Generate a list applying if-else in list comprehension "
   ]
  },
  {
   "cell_type": "code",
   "execution_count": 3,
   "metadata": {
    "scrolled": true
   },
   "outputs": [
    {
     "name": "stdout",
     "output_type": "stream",
     "text": [
      "['Expired', 'Not Expired', 'Not Expired', 'Not Expired']\n"
     ]
    }
   ],
   "source": [
    "from datetime import datetime\n",
    "\n",
    "# Dictionary of expiry date\n",
    "expiryDate = { 'A': datetime( 2019, 2, 1 ), \n",
    "               'B': datetime( 2018, 12, 4 ),\n",
    "               'C': datetime( 2019, 5, 15 ), \n",
    "               'D': datetime( 2019, 2, 12 ), \n",
    "               'E': datetime( 2019, 3, 11 ), \n",
    "               'F': datetime( 2019, 6, 4 ) }\n",
    "\n",
    "# Reference date to check for expired items\n",
    "refDate = datetime( 2019, 3, 1 )\n",
    "\n",
    "# List of items\n",
    "itemsList = [ 'A', 'C', 'E', 'F' ]\n",
    "\n",
    "# Generate expiryList from the itemsList\n",
    "expiryList = [ 'Not Expired' if expiryDate[ item ] > refDate else 'Expired' for item in itemsList ]\n",
    "print( expiryList )"
   ]
  }
 ],
 "metadata": {
  "kernelspec": {
   "display_name": "Python 3",
   "language": "python",
   "name": "python3"
  },
  "language_info": {
   "codemirror_mode": {
    "name": "ipython",
    "version": 3
   },
   "file_extension": ".py",
   "mimetype": "text/x-python",
   "name": "python",
   "nbconvert_exporter": "python",
   "pygments_lexer": "ipython3",
   "version": "3.5.5"
  }
 },
 "nbformat": 4,
 "nbformat_minor": 2
}
