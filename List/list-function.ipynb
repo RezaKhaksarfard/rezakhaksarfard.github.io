{
 "cells": [
  {
   "cell_type": "markdown",
   "metadata": {},
   "source": [
    "[jupyter notebook](list-function.ipynb)"
   ]
  },
  {
   "cell_type": "markdown",
   "metadata": {},
   "source": [
    "# Lists are not copied when passed to a function "
   ]
  },
  {
   "cell_type": "code",
   "execution_count": 1,
   "metadata": {
    "scrolled": true
   },
   "outputs": [
    {
     "name": "stdout",
     "output_type": "stream",
     "text": [
      "Before calling the function  [0, 2]\n",
      "After calling the function   [0, 5]\n"
     ]
    }
   ],
   "source": [
    "def Func( l ):\n",
    "    l[ 1 ] = 5\n",
    "    \n",
    "l = [ 0, 2 ]\n",
    "print( 'Before calling the function ', l )\n",
    "Func( l )\n",
    "print( 'After calling the function  ', l )"
   ]
  },
  {
   "cell_type": "code",
   "execution_count": 2,
   "metadata": {},
   "outputs": [
    {
     "name": "stdout",
     "output_type": "stream",
     "text": [
      "Before calling the function  [0, 2]\n",
      "After calling the function   [0, 5]\n"
     ]
    }
   ],
   "source": [
    "def Func( l1 ):\n",
    "    l2 = l1\n",
    "    l2[ 1 ] = 5\n",
    "    \n",
    "l1 = [ 0, 2 ]\n",
    "print( 'Before calling the function ', l1 )\n",
    "Func( l1 )\n",
    "print( 'After calling the function  ', l1 )\n"
   ]
  },
  {
   "cell_type": "markdown",
   "metadata": {},
   "source": [
    "### List slicing creates a new object"
   ]
  },
  {
   "cell_type": "code",
   "execution_count": 3,
   "metadata": {},
   "outputs": [
    {
     "name": "stdout",
     "output_type": "stream",
     "text": [
      "Before calling the function  [0, 2]\n",
      "After calling the function   [0, 2]\n"
     ]
    }
   ],
   "source": [
    "def Func( l1 ):\n",
    "    l2 = l1[ : ] \n",
    "    l2[ 1 ] = 5\n",
    "    \n",
    "l1 = [ 0, 2 ]\n",
    "print( 'Before calling the function ', l1 )\n",
    "Func( l1 )\n",
    "print( 'After calling the function  ', l1 )"
   ]
  }
 ],
 "metadata": {
  "kernelspec": {
   "display_name": "Python 3",
   "language": "python",
   "name": "python3"
  },
  "language_info": {
   "codemirror_mode": {
    "name": "ipython",
    "version": 3
   },
   "file_extension": ".py",
   "mimetype": "text/x-python",
   "name": "python",
   "nbconvert_exporter": "python",
   "pygments_lexer": "ipython3",
   "version": "3.5.5"
  }
 },
 "nbformat": 4,
 "nbformat_minor": 2
}
